{
 "cells": [
  {
   "cell_type": "markdown",
   "id": "0214415f",
   "metadata": {},
   "source": [
    "Input a shapefile of the polygon you would like to clip, input the raster file you are clipping from, set the output directory and output file name, then run all cells. The code will tell you if the polygon doesn't overlap the raster, otherwise it will clip the raster to only the area of the polygon."
   ]
  },
  {
   "cell_type": "code",
   "execution_count": 46,
   "id": "fb28045f",
   "metadata": {},
   "outputs": [
    {
     "name": "stdout",
     "output_type": "stream",
     "text": [
      "output directory: C:\\i_am_a_demo_delete_me\n"
     ]
    }
   ],
   "source": [
    "import os, sys, rasterio, fiona\n",
    "\n",
    "#polygon_file = 'polygon.shp'\n",
    "#raster_file = 'raster.tif'\n",
    "#output_directory = 'output_folder'\n",
    "#output_file = 'output_raster.tif'\n",
    "\n",
    "polygon_file = 'D:\\Palmer2020 Data Repo\\ROI shapefiles\\Dream.shp'\n",
    "raster_file = 'D:\\Palmer2020 Data Repo\\Imagery datasets\\DigitalGlobe products\\QuickBird2 [2004-2013]\\QB02_20041215135202_1010010003742B00_04DEC15135202-P1BS-052281612010_01_P001_u08rf3031.tif'\n",
    "output_directory = 'C:\\i_am_a_demo_delete_me'\n",
    "output_file = output_directory + '/{p}-{t}'.format(p=polygon_file.split('\\\\')[-1], t=raster_file.split('\\\\')[-1])\n",
    "\n",
    "try:\n",
    "    os.makedirs(output_directory)\n",
    "    print(\"output directory: \" + output_directory)\n",
    "except: pass\n"
   ]
  },
  {
   "cell_type": "code",
   "execution_count": 47,
   "id": "223c1299",
   "metadata": {},
   "outputs": [
    {
     "name": "stdout",
     "output_type": "stream",
     "text": [
      "[]\n"
     ]
    }
   ],
   "source": [
    "from rasterio.mask import mask\n",
    "\n",
    "with fiona.open(polygon_file,'r')as shp:\n",
    "    shape=[feature[\"geometry\"] for feature in shp]\n",
    "\n",
    "output_file = output_directory + '/{p}-{t}'.format(p=polygon_file.split('\\\\')[-1], t=raster_file.split('\\\\')[-1])\n",
    "\n",
    "error_list = []\n",
    "with rasterio.open(raster_file) as tile:\n",
    "    try:\n",
    "        out_image, out_transform = rasterio.mask.mask(tile, shape, crop=True)\n",
    "    except ValueError:\n",
    "        print(f\"No overlap found for {tile.files[0]}. Skipping.\")\n",
    "    except:\n",
    "        error_list.append([raster_file, sys.exc_info()[0]])\n",
    "        print(\"unknown error: \" + sys.exc_info()[0])\n",
    "    else:\n",
    "        out_meta = tile.meta\n",
    "        out_meta.update({\"driver\": \"GTiff\",\n",
    "              \"height\": out_image.shape[1],\n",
    "              \"width\": out_image.shape[2],\n",
    "              \"transform\": out_transform})\n",
    "\n",
    "        with rasterio.open(output_file, \"w\", **out_meta) as dest:\n",
    "            dest.write(out_image)\n",
    "print(error_list)"
   ]
  }
 ],
 "metadata": {
  "kernelspec": {
   "display_name": "Python 3 (ipykernel)",
   "language": "python",
   "name": "python3"
  },
  "language_info": {
   "codemirror_mode": {
    "name": "ipython",
    "version": 3
   },
   "file_extension": ".py",
   "mimetype": "text/x-python",
   "name": "python",
   "nbconvert_exporter": "python",
   "pygments_lexer": "ipython3",
   "version": "3.8.10"
  }
 },
 "nbformat": 4,
 "nbformat_minor": 5
}
